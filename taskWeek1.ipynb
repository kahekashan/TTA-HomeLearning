{
 "cells": [
  {
   "cell_type": "code",
   "execution_count": 44,
   "source": [
    "import random\r\n",
    "\r\n",
    "num=random.randint(1, 10)\r\n",
    "\r\n",
    "name=input(\"What is your name\")\r\n",
    "guess_num=int(input(\"Guess a Number\"))\r\n",
    "\r\n",
    "if num==guess_num:\r\n",
    "    print(name, \" You have guessed the number\")\r\n",
    "else:\r\n",
    "    print(\"my number is \",num,\" , better luck Next time\")"
   ],
   "outputs": [
    {
     "output_type": "stream",
     "name": "stdout",
     "text": [
      "my number is  1  , better luck Next time\n"
     ]
    }
   ],
   "metadata": {}
  },
  {
   "cell_type": "code",
   "execution_count": 35,
   "source": [
    "import random\r\n",
    "\r\n",
    "joke=['Why did the kid bring a ladder to schoolBecause she wanted to go to high school.','How do you get a squirrel to like you?Act like a nut.','What do you call two birds in love?Tweethearts','hahaha']\r\n",
    "text=random.choice(joke)\r\n",
    "fav_num=input(\"Enter your favourite Number betwewn 1 and 100\")\r\n",
    "print(fav_num, text)\r\n"
   ],
   "outputs": [
    {
     "output_type": "stream",
     "name": "stdout",
     "text": [
      "4 What do you call two birds in love?Tweethearts\n"
     ]
    }
   ],
   "metadata": {}
  },
  {
   "cell_type": "code",
   "execution_count": 43,
   "source": [
    "joke1=\"Why did the kid bring a ladder to schoolBecause she wanted to go to high school.\"\r\n",
    "joke2=\"How do you get a squirrel to like you?Act like a nut.\"\r\n",
    "joke3=\"hahaha\"\r\n",
    "joke4=\"What do you call two birds in love?Tweethearts\"\r\n",
    "\r\n",
    "fav_num1=int(input(\"Enter your favourite Number betwewn 1 and 100\"))\r\n",
    "\r\n",
    "if fav_num1<25:\r\n",
    "    joke_msg=joke1\r\n",
    "elif fav_num1>25 and fav_num1<50:\r\n",
    "    joke_msg=joke2\r\n",
    "elif fav_num1>50 and fav_num1<75:\r\n",
    "    joke_msg=joke3\r\n",
    "else:\r\n",
    "    joke_msg=joke4\r\n",
    "\r\n",
    "print(fav_num1, joke_msg)"
   ],
   "outputs": [
    {
     "output_type": "stream",
     "name": "stdout",
     "text": [
      "44 How do you get a squirrel to like you?Act like a nut.\n"
     ]
    }
   ],
   "metadata": {}
  },
  {
   "cell_type": "code",
   "execution_count": 22,
   "source": [
    "starter=(input(\"Enter your choice of starter\"))\r\n",
    "main=(input(\"Enter your choice of main Course\"))\r\n",
    "desert=(input(\"Enter your choice of Desert\"))\r\n",
    "drink=input(\"Enter your choice of desert\")\r\n",
    "\r\n",
    "print(\"your favourite meal is \", starter, main, desert, \"with a glass of \", drink)"
   ],
   "outputs": [
    {
     "output_type": "stream",
     "name": "stdout",
     "text": [
      "your favourite meal is  soup pizza cake with a glass of  water\n"
     ]
    }
   ],
   "metadata": {}
  },
  {
   "cell_type": "code",
   "execution_count": 19,
   "source": [
    "value=2000\r\n",
    "\r\n",
    "while value>1000:\r\n",
    "    print (value)\r\n",
    "    value=value*0.9"
   ],
   "outputs": [
    {
     "output_type": "stream",
     "name": "stdout",
     "text": [
      "2000\n",
      "1800.0\n",
      "1620.0\n",
      "1458.0\n",
      "1312.2\n",
      "1180.98\n",
      "1062.882\n"
     ]
    }
   ],
   "metadata": {}
  },
  {
   "cell_type": "code",
   "execution_count": 14,
   "source": [
    "num1 = int(input(\"Enter First Number: \"))\r\n",
    "num2 = int(input(\"Enter Second Number: \"))\r\n",
    "\r\n",
    "print(\"Enter 'a' to add \\n 'b' to substract \\n 'c' to multiply \\n 'd' to Divide \\n 'e' to Square of  \")\r\n",
    "calc = input(\"Enter 'a' to add  'b' to substract  'c' to multiply  'd' to Divide: 'e' to Square of \")\r\n",
    "\r\n",
    "result = 0\r\n",
    "if calc == 'a':\r\n",
    "    result = num1 + num2\r\n",
    "    op='+'\r\n",
    "elif calc == 'b':\r\n",
    "    result = num1 - num2\r\n",
    "    op='-'\r\n",
    "elif calc == 'c':\r\n",
    "    result = num1 * num2\r\n",
    "    op='*'\r\n",
    "elif calc == 'd':\r\n",
    "    result = num1 / num2\r\n",
    "    op='/'\r\n",
    "elif calc == 'e':\r\n",
    "    result = num1 ** num2\r\n",
    "    op='**'\r\n",
    "else:\r\n",
    "    print(\"Input character is not recognized!\")\r\n",
    "\r\n",
    "print(num1, op , num2, \":\", result)"
   ],
   "outputs": [
    {
     "output_type": "stream",
     "name": "stdout",
     "text": [
      "Enter 'a' to add \n",
      " 'b' to substract \n",
      " 'c' to multiply \n",
      " 'd' to Divide \n",
      " 'e' to Square of  \n",
      "3 ** 2 : 9\n"
     ]
    }
   ],
   "metadata": {}
  }
 ],
 "metadata": {
  "orig_nbformat": 4,
  "language_info": {
   "name": "python",
   "version": "3.9.1",
   "mimetype": "text/x-python",
   "codemirror_mode": {
    "name": "ipython",
    "version": 3
   },
   "pygments_lexer": "ipython3",
   "nbconvert_exporter": "python",
   "file_extension": ".py"
  },
  "kernelspec": {
   "name": "python3",
   "display_name": "Python 3.9.1 64-bit"
  },
  "interpreter": {
   "hash": "2606c904181081f7bf882c8dc76a2e4573aa67f6022ca08af0544c42b15bd933"
  }
 },
 "nbformat": 4,
 "nbformat_minor": 2
}