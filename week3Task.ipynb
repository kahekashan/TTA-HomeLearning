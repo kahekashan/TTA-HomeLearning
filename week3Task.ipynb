{
 "cells": [
  {
   "cell_type": "code",
   "execution_count": 4,
   "metadata": {},
   "outputs": [
    {
     "name": "stdout",
     "output_type": "stream",
     "text": [
      "Your Grade is  A 90\n"
     ]
    }
   ],
   "source": [
    "def mark_grade(score):\n",
    "    if score >= 90:\n",
    "        grade=\"A\"\n",
    "        grade_score=90\n",
    "    elif score >= 80:\n",
    "        grade=\"B\"\n",
    "        grade_score=80\n",
    "    elif score >= 70:\n",
    "        grade=\"C\"\n",
    "        grade_score=70\n",
    "    elif score >= 60:\n",
    "        grade=\"D\"\n",
    "        grade_score=60\n",
    "    else :\n",
    "        grade=\"E\"\n",
    "        grade_score=50\n",
    "    return grade,grade_score\n",
    "percentage_mark=int(input(\"Enter your percentage mark\"))\n",
    "grade1,grade_score1=mark_grade(percentage_mark)\n",
    "\n",
    "#exam_grade=mark_grade(99)\n",
    "print(\"Your Grade is \",grade1,grade_score1)"
   ]
  },
  {
   "cell_type": "code",
   "execution_count": 6,
   "metadata": {},
   "outputs": [
    {
     "name": "stdout",
     "output_type": "stream",
     "text": [
      "Your target grade -- A\n",
      "Your grade is  A COMMENT:    reached your target\n"
     ]
    }
   ],
   "source": [
    "target_grade=input(\"Enter target grade\")\n",
    "print(\"Your target grade --\",target_grade)\n",
    "\n",
    "if target_grade==\"A\":\n",
    "    target_no=90\n",
    "elif target_grade==\"B\":\n",
    "    target_no=80\n",
    "elif target_grade==\"c\":\n",
    "    target_no=70\n",
    "\n",
    "#print(\"sas\",target_no)\n",
    "\n",
    "if target_no>grade_score1:\n",
    "    print(\"Your grade is \",grade1,\"COMMENT:   Need Improvement\")\n",
    "elif target_no == grade_score1:\n",
    "    print(\"Your grade is \",grade1,\": COMMENT:    reached your target\")\n",
    "elif target_no < grade_score1:\n",
    "    print(\"Your grade is \",grade1,\"COMMENT:            good\")\n",
    "\n"
   ]
  },
  {
   "cell_type": "code",
   "execution_count": 16,
   "metadata": {},
   "outputs": [],
   "source": [
    "my_file = open(\"Numbers.txt\", \"w\")\n",
    "\n",
    "for i in range(4):\n",
    "    my_file.write(input(\"Enter Four Numbers\"))\n",
    "    my_file.write(\"\\n\")\n",
    "\n",
    "my_file.close()"
   ]
  },
  {
   "cell_type": "code",
   "execution_count": 17,
   "metadata": {},
   "outputs": [
    {
     "name": "stdout",
     "output_type": "stream",
     "text": [
      "22\n",
      "33\n",
      "44\n",
      "55\n",
      "\n"
     ]
    }
   ],
   "source": [
    "with open(\"Numbers.txt\", \"r\") as myfile:\n",
    "    data = myfile.read()\n",
    "\n",
    "myfile.close()\n",
    "\n",
    "print(data)"
   ]
  },
  {
   "cell_type": "code",
   "execution_count": 18,
   "metadata": {},
   "outputs": [],
   "source": [
    "\n",
    "# Appending\n",
    "my_file = open(\"Numbers.txt\", \"a\")\n",
    "\n",
    "my_file.write(input(\"Enter  Number\"))\n",
    "my_file.write(\"\\n\")\n",
    "\n",
    "my_file.close()\n"
   ]
  },
  {
   "cell_type": "code",
   "execution_count": 19,
   "metadata": {},
   "outputs": [
    {
     "name": "stdout",
     "output_type": "stream",
     "text": [
      "22\n",
      "33\n",
      "44\n",
      "55\n",
      "888888\n",
      "\n"
     ]
    }
   ],
   "source": [
    "with open(\"Numbers.txt\", \"r\") as myfile:\n",
    "    data = myfile.read()\n",
    "\n",
    "myfile.close()\n",
    "\n",
    "print(data)"
   ]
  },
  {
   "cell_type": "code",
   "execution_count": 24,
   "metadata": {},
   "outputs": [
    {
     "name": "stdout",
     "output_type": "stream",
     "text": [
      "[0 1 2 3 4 5 6 7 8 9]\n"
     ]
    }
   ],
   "source": [
    "import numpy as np\n",
    "array = np.array([0,1, 2, 3, 4, 5, 6, 7 ,8  ,9])\n",
    "\n",
    "print(array)\n",
    "# slices data from index 1 to 4  - 0 indexed and discounts final number"
   ]
  },
  {
   "cell_type": "code",
   "execution_count": 30,
   "metadata": {},
   "outputs": [
    {
     "name": "stdout",
     "output_type": "stream",
     "text": [
      "[[ True  True  True]\n",
      " [ True  True  True]\n",
      " [ True  True  True]]\n"
     ]
    }
   ],
   "source": [
    "bool_type=np.ones((3,3), dtype=bool)\n",
    "\n",
    "print(bool_type)"
   ]
  },
  {
   "cell_type": "code",
   "execution_count": 39,
   "metadata": {},
   "outputs": [
    {
     "data": {
      "text/plain": [
       "array([1, 3, 5, 7, 9])"
      ]
     },
     "execution_count": 39,
     "metadata": {},
     "output_type": "execute_result"
    }
   ],
   "source": [
    "a=np.array([1,2,3,4,5,6,7,8,9,10])\n",
    "a[a % 2 == 1]\n"
   ]
  },
  {
   "cell_type": "code",
   "execution_count": 35,
   "metadata": {},
   "outputs": [
    {
     "name": "stdout",
     "output_type": "stream",
     "text": [
      "[1 3 5 7 9]\n"
     ]
    }
   ],
   "source": [
    "import numpy as np\n",
    "\n",
    "array = np.arange(10)    # dummy array\n",
    "\n",
    "result = []    # a seperate list for storing odd numbers\n",
    "\n",
    "for i in array:\n",
    "\n",
    " if i % 2 != 0:\n",
    "\n",
    "   result.append(i)\n",
    "\n",
    "print(np.array(result)) "
   ]
  },
  {
   "cell_type": "code",
   "execution_count": 45,
   "metadata": {},
   "outputs": [
    {
     "data": {
      "text/plain": [
       "array([1, 3, 5, 7, 9])"
      ]
     },
     "execution_count": 45,
     "metadata": {},
     "output_type": "execute_result"
    }
   ],
   "source": [
    "a=np.array([1,2,3,4,5,6,7,8,9,10])\n",
    "a[a % 2 == 1]\n"
   ]
  }
 ],
 "metadata": {
  "interpreter": {
   "hash": "2606c904181081f7bf882c8dc76a2e4573aa67f6022ca08af0544c42b15bd933"
  },
  "kernelspec": {
   "display_name": "Python 3.9.1 64-bit",
   "name": "python3"
  },
  "language_info": {
   "codemirror_mode": {
    "name": "ipython",
    "version": 3
   },
   "file_extension": ".py",
   "mimetype": "text/x-python",
   "name": "python",
   "nbconvert_exporter": "python",
   "pygments_lexer": "ipython3",
   "version": "3.9.1"
  },
  "orig_nbformat": 4
 },
 "nbformat": 4,
 "nbformat_minor": 2
}
