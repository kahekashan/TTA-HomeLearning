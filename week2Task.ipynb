{
 "cells": [
  {
   "cell_type": "code",
   "execution_count": 6,
   "metadata": {},
   "outputs": [
    {
     "name": "stdout",
     "output_type": "stream",
     "text": [
      "Enter which operation would you like to perform?\n",
      "2 + 3 : 5\n"
     ]
    }
   ],
   "source": [
    "def calc(num1,num2,ch):\n",
    "\n",
    "    result = 0\n",
    "    if ch == '+':\n",
    "        result = num1 + num2\n",
    "    elif ch == '-':\n",
    "        result = num1 - num2\n",
    "    elif ch == '*':\n",
    "        result = num1 * num2\n",
    "    elif ch == '/':\n",
    "        result = num1 / num2\n",
    "    else:\n",
    "        print(\"Input character is not recognized!\")\n",
    "\n",
    "    print(num1, ch , num2, \":\", result)\n",
    "\n",
    "number1= int(input(\"Enter First Number: \"))\n",
    "number2 = int(input(\"Enter Second Number: \"))\n",
    "\n",
    "print(\"Enter which operation would you like to perform?\")\n",
    "math_op = input(\"Enter any of these char for specific operation +,-,*,/: \")\n",
    "\n",
    "calc(number1,number2,math_op)\n"
   ]
  },
  {
   "cell_type": "code",
   "execution_count": 60,
   "metadata": {},
   "outputs": [
    {
     "data": {
      "text/plain": [
       "' 2000      1800.0      1620.0      1458.0      1312.2      1180.98      1062.882      '"
      ]
     },
     "execution_count": 60,
     "metadata": {},
     "output_type": "execute_result"
    }
   ],
   "source": [
    "\n",
    "def func1(cost):\n",
    "    val=\" \"\n",
    "    while cost>1000:\n",
    "        val+=str(cost)+ \"      \"\n",
    "        \n",
    "        cost=cost*0.9\n",
    "    return val\n",
    "\n",
    "costOfBike=2000\n",
    "func1(costOfBike)"
   ]
  }
 ],
 "metadata": {
  "interpreter": {
   "hash": "2606c904181081f7bf882c8dc76a2e4573aa67f6022ca08af0544c42b15bd933"
  },
  "kernelspec": {
   "display_name": "Python 3.9.1 64-bit",
   "name": "python3"
  },
  "language_info": {
   "codemirror_mode": {
    "name": "ipython",
    "version": 3
   },
   "file_extension": ".py",
   "mimetype": "text/x-python",
   "name": "python",
   "nbconvert_exporter": "python",
   "pygments_lexer": "ipython3",
   "version": "3.9.1"
  },
  "orig_nbformat": 4
 },
 "nbformat": 4,
 "nbformat_minor": 2
}
